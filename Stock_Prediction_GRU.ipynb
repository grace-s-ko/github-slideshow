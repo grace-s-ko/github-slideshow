{
  "nbformat": 4,
  "nbformat_minor": 0,
  "metadata": {
    "colab": {
      "name": "Stock Prediction_GRU.ipynb",
      "provenance": [],
      "authorship_tag": "ABX9TyNgyisTW4N72kHtbBZ09y0K",
      "include_colab_link": true
    },
    "kernelspec": {
      "name": "python3",
      "display_name": "Python 3"
    },
    "language_info": {
      "name": "python"
    }
  },
  "cells": [
    {
      "cell_type": "markdown",
      "metadata": {
        "id": "view-in-github",
        "colab_type": "text"
      },
      "source": [
        "<a href=\"https://colab.research.google.com/github/grace-s-ko/github-slideshow/blob/RNN/Stock_Prediction_GRU.ipynb\" target=\"_parent\"><img src=\"https://colab.research.google.com/assets/colab-badge.svg\" alt=\"Open In Colab\"/></a>"
      ]
    },
    {
      "cell_type": "code",
      "metadata": {
        "id": "J7oC9Yin0lKl"
      },
      "source": [
        "import numpy as np\n",
        "import matplotlib.pyplot as plt\n",
        "import pandas as pd\n",
        "from sklearn.preprocessing import MinMaxScaler"
      ],
      "execution_count": 196,
      "outputs": []
    },
    {
      "cell_type": "code",
      "metadata": {
        "colab": {
          "base_uri": "https://localhost:8080/",
          "height": 204
        },
        "id": "l1cUrNG5mykG",
        "outputId": "09532f3a-0612-4033-c2de-c27e6f6cf416"
      },
      "source": [
        "data = pd.read_csv('/content/drive/MyDrive/Colab Notebooks/hafs/sse_210517.csv', date_parser = True)\n",
        "data.tail()"
      ],
      "execution_count": 197,
      "outputs": [
        {
          "output_type": "execute_result",
          "data": {
            "text/html": [
              "<div>\n",
              "<style scoped>\n",
              "    .dataframe tbody tr th:only-of-type {\n",
              "        vertical-align: middle;\n",
              "    }\n",
              "\n",
              "    .dataframe tbody tr th {\n",
              "        vertical-align: top;\n",
              "    }\n",
              "\n",
              "    .dataframe thead th {\n",
              "        text-align: right;\n",
              "    }\n",
              "</style>\n",
              "<table border=\"1\" class=\"dataframe\">\n",
              "  <thead>\n",
              "    <tr style=\"text-align: right;\">\n",
              "      <th></th>\n",
              "      <th>Date</th>\n",
              "      <th>Open</th>\n",
              "      <th>High</th>\n",
              "      <th>Low</th>\n",
              "      <th>Close</th>\n",
              "      <th>Adj Close</th>\n",
              "      <th>Volume</th>\n",
              "    </tr>\n",
              "  </thead>\n",
              "  <tbody>\n",
              "    <tr>\n",
              "      <th>1222</th>\n",
              "      <td>2021-05-11</td>\n",
              "      <td>82500.0</td>\n",
              "      <td>82600.0</td>\n",
              "      <td>81100.0</td>\n",
              "      <td>81200.0</td>\n",
              "      <td>81200.0</td>\n",
              "      <td>28996680.0</td>\n",
              "    </tr>\n",
              "    <tr>\n",
              "      <th>1223</th>\n",
              "      <td>2021-05-12</td>\n",
              "      <td>80800.0</td>\n",
              "      <td>81200.0</td>\n",
              "      <td>79800.0</td>\n",
              "      <td>80000.0</td>\n",
              "      <td>80000.0</td>\n",
              "      <td>35812268.0</td>\n",
              "    </tr>\n",
              "    <tr>\n",
              "      <th>1224</th>\n",
              "      <td>2021-05-13</td>\n",
              "      <td>78900.0</td>\n",
              "      <td>79600.0</td>\n",
              "      <td>78400.0</td>\n",
              "      <td>78500.0</td>\n",
              "      <td>78500.0</td>\n",
              "      <td>31490096.0</td>\n",
              "    </tr>\n",
              "    <tr>\n",
              "      <th>1225</th>\n",
              "      <td>2021-05-14</td>\n",
              "      <td>79000.0</td>\n",
              "      <td>80300.0</td>\n",
              "      <td>78900.0</td>\n",
              "      <td>80100.0</td>\n",
              "      <td>80100.0</td>\n",
              "      <td>16450920.0</td>\n",
              "    </tr>\n",
              "    <tr>\n",
              "      <th>1226</th>\n",
              "      <td>2021-05-17</td>\n",
              "      <td>80800.0</td>\n",
              "      <td>80900.0</td>\n",
              "      <td>79200.0</td>\n",
              "      <td>79600.0</td>\n",
              "      <td>79600.0</td>\n",
              "      <td>17740855.0</td>\n",
              "    </tr>\n",
              "  </tbody>\n",
              "</table>\n",
              "</div>"
            ],
            "text/plain": [
              "            Date     Open     High      Low    Close  Adj Close      Volume\n",
              "1222  2021-05-11  82500.0  82600.0  81100.0  81200.0    81200.0  28996680.0\n",
              "1223  2021-05-12  80800.0  81200.0  79800.0  80000.0    80000.0  35812268.0\n",
              "1224  2021-05-13  78900.0  79600.0  78400.0  78500.0    78500.0  31490096.0\n",
              "1225  2021-05-14  79000.0  80300.0  78900.0  80100.0    80100.0  16450920.0\n",
              "1226  2021-05-17  80800.0  80900.0  79200.0  79600.0    79600.0  17740855.0"
            ]
          },
          "metadata": {
            "tags": []
          },
          "execution_count": 197
        }
      ]
    },
    {
      "cell_type": "code",
      "metadata": {
        "id": "AFvhQvqVnOSw"
      },
      "source": [
        "data_training = data[data['Date']<'2020-09-01'].copy()\n",
        "data_test = data[data['Date']>='2020-09-01'].copy()"
      ],
      "execution_count": 198,
      "outputs": []
    },
    {
      "cell_type": "code",
      "metadata": {
        "id": "FF7Rb2Dpu972"
      },
      "source": [
        "data_training = data_training.drop(['Date', 'Adj Close'], axis = 1)"
      ],
      "execution_count": 199,
      "outputs": []
    },
    {
      "cell_type": "code",
      "metadata": {
        "colab": {
          "base_uri": "https://localhost:8080/",
          "height": 350
        },
        "id": "loMiPGBVoz9d",
        "outputId": "0f1c7fba-8e18-4483-a5bd-cd2f5e23c8be"
      },
      "source": [
        "scaler = MinMaxScaler()\n",
        "data_training = scaler.fit_transform(data_training)\n",
        "plt.plot(data_training)"
      ],
      "execution_count": 200,
      "outputs": [
        {
          "output_type": "execute_result",
          "data": {
            "text/plain": [
              "[<matplotlib.lines.Line2D at 0x7ff7e4391d90>,\n",
              " <matplotlib.lines.Line2D at 0x7ff7e4391f90>,\n",
              " <matplotlib.lines.Line2D at 0x7ff7e439c190>,\n",
              " <matplotlib.lines.Line2D at 0x7ff7e439c350>,\n",
              " <matplotlib.lines.Line2D at 0x7ff7e439c510>]"
            ]
          },
          "metadata": {
            "tags": []
          },
          "execution_count": 200
        },
        {
          "output_type": "display_data",
          "data": {
            "image/png": "[encoded data removed]",
            "text/plain": [
              "<Figure size 432x288 with 1 Axes>"
            ]
          },
          "metadata": {
            "tags": [],
            "needs_background": "light"
          }
        }
      ]
    },
    {
      "cell_type": "code",
      "metadata": {
        "id": "rGF03ASXpF4k"
      },
      "source": [
        "x_train = []\n",
        "y_train = []\n",
        "\n",
        "for i in range(60, data_training.shape[0]):\n",
        "    x_train.append(data_training[i-60:i])\n",
        "    y_train.append(data_training[i, 0])\n",
        "    \n",
        "x_train, y_train = np.array(x_train), np.array(y_train)"
      ],
      "execution_count": 201,
      "outputs": []
    },
    {
      "cell_type": "code",
      "metadata": {
        "id": "YFzZhsnqyN5N"
      },
      "source": [
        "x_train = np.where(np.isnan(x_train), 0, x_train)\n",
        "y_train = np.where(np.isnan(y_train), 0, y_train)"
      ],
      "execution_count": 202,
      "outputs": []
    },
    {
      "cell_type": "code",
      "metadata": {
        "id": "fJkVHtXypgtX"
      },
      "source": [
        "from tensorflow.keras import Sequential\n",
        "from tensorflow.keras.layers import Dense, LSTM, Dropout, GRU"
      ],
      "execution_count": 203,
      "outputs": []
    },
    {
      "cell_type": "code",
      "metadata": {
        "id": "Zt66QONwppSn"
      },
      "source": [
        "regressor = Sequential()\n",
        "\n",
        "regressor.add(GRU(units = 60, activation = 'relu', return_sequences = True, input_shape = (x_train.shape[1], 5)))\n",
        "regressor.add(Dropout(0.2))\n",
        "\n",
        "regressor.add(GRU(units = 60, activation = 'relu', return_sequences = True))\n",
        "regressor.add(Dropout(0.2))\n",
        "\n",
        "regressor.add(GRU(units = 80, activation = 'relu', return_sequences = True))\n",
        "regressor.add(Dropout(0.2))\n",
        "\n",
        "regressor.add(GRU(units = 120, activation = 'relu'))\n",
        "regressor.add(Dropout(0.2))\n",
        "\n",
        "regressor.add(Dense(units = 1))"
      ],
      "execution_count": 204,
      "outputs": []
    },
    {
      "cell_type": "code",
      "metadata": {
        "colab": {
          "base_uri": "https://localhost:8080/"
        },
        "id": "_pQuOEXrp7EL",
        "outputId": "bf17cc8d-8740-4004-9992-ad160b170582"
      },
      "source": [
        "regressor.compile(optimizer='adam', loss = 'mean_squared_error')\n",
        "regressor.fit(x_train, y_train, epochs=50, batch_size=32)"
      ],
      "execution_count": 205,
      "outputs": [
        {
          "output_type": "stream",
          "text": [
            "Epoch 1/50\n",
            "32/32 [==============================] - 9s 132ms/step - loss: 0.1712\n",
            "Epoch 2/50\n",
            "32/32 [==============================] - 4s 135ms/step - loss: 0.0151\n",
            "Epoch 3/50\n",
            "32/32 [==============================] - 4s 134ms/step - loss: 0.0089\n",
            "Epoch 4/50\n",
            "32/32 [==============================] - 4s 135ms/step - loss: 0.0094\n",
            "Epoch 5/50\n",
            "32/32 [==============================] - 4s 134ms/step - loss: 0.0065\n",
            "Epoch 6/50\n",
            "32/32 [==============================] - 4s 134ms/step - loss: 0.0089\n",
            "Epoch 7/50\n",
            "32/32 [==============================] - 4s 133ms/step - loss: 0.0097\n",
            "Epoch 8/50\n",
            "32/32 [==============================] - 4s 134ms/step - loss: 0.0071\n",
            "Epoch 9/50\n",
            "32/32 [==============================] - 4s 133ms/step - loss: 0.0089\n",
            "Epoch 10/50\n",
            "32/32 [==============================] - 4s 132ms/step - loss: 0.0119\n",
            "Epoch 11/50\n",
            "32/32 [==============================] - 4s 134ms/step - loss: 0.0074\n",
            "Epoch 12/50\n",
            "32/32 [==============================] - 4s 133ms/step - loss: 0.0069\n",
            "Epoch 13/50\n",
            "32/32 [==============================] - 4s 133ms/step - loss: 0.0080\n",
            "Epoch 14/50\n",
            "32/32 [==============================] - 4s 133ms/step - loss: 0.0074\n",
            "Epoch 15/50\n",
            "32/32 [==============================] - 4s 133ms/step - loss: 0.0062\n",
            "Epoch 16/50\n",
            "32/32 [==============================] - 4s 134ms/step - loss: 0.0052\n",
            "Epoch 17/50\n",
            "32/32 [==============================] - 4s 133ms/step - loss: 0.0068\n",
            "Epoch 18/50\n",
            "32/32 [==============================] - 4s 134ms/step - loss: 0.0080\n",
            "Epoch 19/50\n",
            "32/32 [==============================] - 4s 133ms/step - loss: 0.0091\n",
            "Epoch 20/50\n",
            "32/32 [==============================] - 4s 135ms/step - loss: 0.0067\n",
            "Epoch 21/50\n",
            "32/32 [==============================] - 4s 134ms/step - loss: 0.0055\n",
            "Epoch 22/50\n",
            "32/32 [==============================] - 4s 132ms/step - loss: 0.0068\n",
            "Epoch 23/50\n",
            "32/32 [==============================] - 4s 133ms/step - loss: 0.0074\n",
            "Epoch 24/50\n",
            "32/32 [==============================] - 4s 133ms/step - loss: 0.0095\n",
            "Epoch 25/50\n",
            "32/32 [==============================] - 4s 134ms/step - loss: 0.0066\n",
            "Epoch 26/50\n",
            "32/32 [==============================] - 4s 133ms/step - loss: 0.0056\n",
            "Epoch 27/50\n",
            "32/32 [==============================] - 4s 132ms/step - loss: 0.0081\n",
            "Epoch 28/50\n",
            "32/32 [==============================] - 4s 133ms/step - loss: 0.0066\n",
            "Epoch 29/50\n",
            "32/32 [==============================] - 4s 134ms/step - loss: 0.0075\n",
            "Epoch 30/50\n",
            "32/32 [==============================] - 4s 134ms/step - loss: 0.0099\n",
            "Epoch 31/50\n",
            "32/32 [==============================] - 4s 133ms/step - loss: 0.0070\n",
            "Epoch 32/50\n",
            "32/32 [==============================] - 4s 133ms/step - loss: 0.0075\n",
            "Epoch 33/50\n",
            "32/32 [==============================] - 4s 133ms/step - loss: 0.0066\n",
            "Epoch 34/50\n",
            "32/32 [==============================] - 4s 133ms/step - loss: 0.0071\n",
            "Epoch 35/50\n",
            "32/32 [==============================] - 4s 134ms/step - loss: 0.0061\n",
            "Epoch 36/50\n",
            "32/32 [==============================] - 4s 133ms/step - loss: 0.0065\n",
            "Epoch 37/50\n",
            "32/32 [==============================] - 4s 133ms/step - loss: 0.0058\n",
            "Epoch 38/50\n",
            "32/32 [==============================] - 4s 132ms/step - loss: 0.0047\n",
            "Epoch 39/50\n",
            "32/32 [==============================] - 4s 133ms/step - loss: 0.0090\n",
            "Epoch 40/50\n",
            "32/32 [==============================] - 4s 133ms/step - loss: 0.0060\n",
            "Epoch 41/50\n",
            "32/32 [==============================] - 4s 134ms/step - loss: 0.0057\n",
            "Epoch 42/50\n",
            "32/32 [==============================] - 4s 134ms/step - loss: 0.0366\n",
            "Epoch 43/50\n",
            "32/32 [==============================] - 4s 134ms/step - loss: 0.0067\n",
            "Epoch 44/50\n",
            "32/32 [==============================] - 4s 135ms/step - loss: 0.0074\n",
            "Epoch 45/50\n",
            "32/32 [==============================] - 4s 134ms/step - loss: 0.0051\n",
            "Epoch 46/50\n",
            "32/32 [==============================] - 4s 135ms/step - loss: 0.0056\n",
            "Epoch 47/50\n",
            "32/32 [==============================] - 4s 136ms/step - loss: 0.0047\n",
            "Epoch 48/50\n",
            "32/32 [==============================] - 4s 136ms/step - loss: 0.0070\n",
            "Epoch 49/50\n",
            "32/32 [==============================] - 4s 133ms/step - loss: 0.0086\n",
            "Epoch 50/50\n",
            "32/32 [==============================] - 4s 134ms/step - loss: 0.0065\n"
          ],
          "name": "stdout"
        },
        {
          "output_type": "execute_result",
          "data": {
            "text/plain": [
              "<tensorflow.python.keras.callbacks.History at 0x7ff7e4272e50>"
            ]
          },
          "metadata": {
            "tags": []
          },
          "execution_count": 205
        }
      ]
    },
    {
      "cell_type": "code",
      "metadata": {
        "id": "xQ1-OnXhp_Ln"
      },
      "source": [
        "past_60_days = data_test.tail(60)"
      ],
      "execution_count": 206,
      "outputs": []
    },
    {
      "cell_type": "code",
      "metadata": {
        "colab": {
          "base_uri": "https://localhost:8080/",
          "height": 204
        },
        "id": "aMM3lL9AqMV5",
        "outputId": "229fb24d-370f-4168-e6ea-84209610e398"
      },
      "source": [
        "df = past_60_days.append(data_test, ignore_index = True)\n",
        "df = df.drop(['Date', 'Adj Close'], axis = 1)\n",
        "df.head()"
      ],
      "execution_count": 207,
      "outputs": [
        {
          "output_type": "execute_result",
          "data": {
            "text/html": [
              "<div>\n",
              "<style scoped>\n",
              "    .dataframe tbody tr th:only-of-type {\n",
              "        vertical-align: middle;\n",
              "    }\n",
              "\n",
              "    .dataframe tbody tr th {\n",
              "        vertical-align: top;\n",
              "    }\n",
              "\n",
              "    .dataframe thead th {\n",
              "        text-align: right;\n",
              "    }\n",
              "</style>\n",
              "<table border=\"1\" class=\"dataframe\">\n",
              "  <thead>\n",
              "    <tr style=\"text-align: right;\">\n",
              "      <th></th>\n",
              "      <th>Open</th>\n",
              "      <th>High</th>\n",
              "      <th>Low</th>\n",
              "      <th>Close</th>\n",
              "      <th>Volume</th>\n",
              "    </tr>\n",
              "  </thead>\n",
              "  <tbody>\n",
              "    <tr>\n",
              "      <th>0</th>\n",
              "      <td>82300.0</td>\n",
              "      <td>82800.0</td>\n",
              "      <td>81000.0</td>\n",
              "      <td>82600.0</td>\n",
              "      <td>25880879.0</td>\n",
              "    </tr>\n",
              "    <tr>\n",
              "      <th>1</th>\n",
              "      <td>83800.0</td>\n",
              "      <td>84200.0</td>\n",
              "      <td>82200.0</td>\n",
              "      <td>82200.0</td>\n",
              "      <td>25419886.0</td>\n",
              "    </tr>\n",
              "    <tr>\n",
              "      <th>2</th>\n",
              "      <td>81200.0</td>\n",
              "      <td>82900.0</td>\n",
              "      <td>81100.0</td>\n",
              "      <td>82000.0</td>\n",
              "      <td>20587314.0</td>\n",
              "    </tr>\n",
              "    <tr>\n",
              "      <th>3</th>\n",
              "      <td>81800.0</td>\n",
              "      <td>83600.0</td>\n",
              "      <td>81300.0</td>\n",
              "      <td>82000.0</td>\n",
              "      <td>26807651.0</td>\n",
              "    </tr>\n",
              "    <tr>\n",
              "      <th>4</th>\n",
              "      <td>84000.0</td>\n",
              "      <td>85400.0</td>\n",
              "      <td>83000.0</td>\n",
              "      <td>85300.0</td>\n",
              "      <td>34155986.0</td>\n",
              "    </tr>\n",
              "  </tbody>\n",
              "</table>\n",
              "</div>"
            ],
            "text/plain": [
              "      Open     High      Low    Close      Volume\n",
              "0  82300.0  82800.0  81000.0  82600.0  25880879.0\n",
              "1  83800.0  84200.0  82200.0  82200.0  25419886.0\n",
              "2  81200.0  82900.0  81100.0  82000.0  20587314.0\n",
              "3  81800.0  83600.0  81300.0  82000.0  26807651.0\n",
              "4  84000.0  85400.0  83000.0  85300.0  34155986.0"
            ]
          },
          "metadata": {
            "tags": []
          },
          "execution_count": 207
        }
      ]
    },
    {
      "cell_type": "code",
      "metadata": {
        "colab": {
          "base_uri": "https://localhost:8080/"
        },
        "id": "irIfDu2bqQEF",
        "outputId": "651079df-6a32-4279-f85d-b5d0e1b69356"
      },
      "source": [
        "inputs = scaler.transform(df)\n",
        "inputs.shape[0]"
      ],
      "execution_count": 208,
      "outputs": [
        {
          "output_type": "execute_result",
          "data": {
            "text/plain": [
              "234"
            ]
          },
          "metadata": {
            "tags": []
          },
          "execution_count": 208
        }
      ]
    },
    {
      "cell_type": "code",
      "metadata": {
        "colab": {
          "base_uri": "https://localhost:8080/"
        },
        "id": "HBhbhZVEqU_k",
        "outputId": "e15d9834-4179-40c0-cbd7-c105ac5f03f6"
      },
      "source": [
        "x_test = []\n",
        "y_test = []\n",
        "\n",
        "for i in range(60, inputs.shape[0]):\n",
        "    x_test.append(inputs[i-60:i])\n",
        "    y_test.append(inputs[i, 0])\n",
        "\n",
        "x_test, y_test = np.array(x_test), np.array(y_test)\n",
        "x_test.shape, y_test.shape"
      ],
      "execution_count": 209,
      "outputs": [
        {
          "output_type": "execute_result",
          "data": {
            "text/plain": [
              "((174, 60, 5), (174,))"
            ]
          },
          "metadata": {
            "tags": []
          },
          "execution_count": 209
        }
      ]
    },
    {
      "cell_type": "code",
      "metadata": {
        "id": "eofz3GZ1zOGL"
      },
      "source": [
        "x_test = np.where(np.isnan(x_test), 0, x_test)\n",
        "y_test = np.where(np.isnan(y_test), 0, y_test)"
      ],
      "execution_count": 210,
      "outputs": []
    },
    {
      "cell_type": "code",
      "metadata": {
        "id": "2Z8OlgnjsNPC"
      },
      "source": [
        "y_pred = regressor.predict(x_test)"
      ],
      "execution_count": 211,
      "outputs": []
    },
    {
      "cell_type": "code",
      "metadata": {
        "colab": {
          "base_uri": "https://localhost:8080/"
        },
        "id": "Pjm2n2G9sU7-",
        "outputId": "08d0c7e6-d467-4e8d-ba85-182c8dae49bc"
      },
      "source": [
        "scaler.scale_"
      ],
      "execution_count": 212,
      "outputs": [
        {
          "output_type": "execute_result",
          "data": {
            "text/plain": [
              "array([2.72331155e-05, 2.67522739e-05, 2.73224044e-05, 2.69978402e-05,\n",
              "       1.54604190e-08])"
            ]
          },
          "metadata": {
            "tags": []
          },
          "execution_count": 212
        }
      ]
    },
    {
      "cell_type": "code",
      "metadata": {
        "colab": {
          "base_uri": "https://localhost:8080/"
        },
        "id": "AYGDihKSsnMS",
        "outputId": "c281b8d4-3639-4ca7-d66c-52caecbbdeeb"
      },
      "source": [
        "scale = 1/scaler.scale_[0]\n",
        "scale"
      ],
      "execution_count": 213,
      "outputs": [
        {
          "output_type": "execute_result",
          "data": {
            "text/plain": [
              "36720.0"
            ]
          },
          "metadata": {
            "tags": []
          },
          "execution_count": 213
        }
      ]
    },
    {
      "cell_type": "code",
      "metadata": {
        "id": "x4Q8Fvlcsmop"
      },
      "source": [
        "y_pred = y_pred*scale\n",
        "y_test = y_test*scale"
      ],
      "execution_count": 214,
      "outputs": []
    },
    {
      "cell_type": "code",
      "metadata": {
        "colab": {
          "base_uri": "https://localhost:8080/",
          "height": 350
        },
        "id": "4h7nvf7assod",
        "outputId": "7a0e11fb-e54c-4bab-8f9b-f7f484a5b20e"
      },
      "source": [
        "plt.figure(figsize=(14,5))\n",
        "plt.plot(y_test, color = 'red', label = 'Real SSE Stock Price')\n",
        "plt.plot(y_pred, color = 'blue', label = 'Predicted SSE Stock Price')\n",
        "plt.title('SSE Stock Price Prediction')\n",
        "plt.xlabel('Time')\n",
        "plt.ylabel('SSE Stock Price')\n",
        "plt.legend()\n",
        "plt.show()"
      ],
      "execution_count": 215,
      "outputs": [
        {
          "output_type": "display_data",
          "data": {
            "image/png": "[encoded data removed]",
            "text/plain": [
              "<Figure size 1008x360 with 1 Axes>"
            ]
          },
          "metadata": {
            "tags": [],
            "needs_background": "light"
          }
        }
      ]
    },
    {
      "cell_type": "code",
      "metadata": {
        "id": "CIk5TTki87t6"
      },
      "source": [
        "#x = past_60_days.drop(['Date', 'Adj Close'], axis = 1)\n",
        "#x = np.array(x)\n",
        "#x.shape"
      ],
      "execution_count": 216,
      "outputs": []
    },
    {
      "cell_type": "code",
      "metadata": {
        "id": "kqjw40-I9fZs"
      },
      "source": [
        "#x = np.reshape(x,(1,60,5))\n",
        "#x.shape"
      ],
      "execution_count": 217,
      "outputs": []
    },
    {
      "cell_type": "code",
      "metadata": {
        "id": "Tggs9NyS9QHr"
      },
      "source": [
        "#y = regressor.predict(x)"
      ],
      "execution_count": 218,
      "outputs": []
    },
    {
      "cell_type": "code",
      "metadata": {
        "id": "TcQLuc5Frsiq"
      },
      "source": [
        "d = data.tail(120)\n",
        "d = d.drop(['Date', 'Adj Close'], axis = 1)"
      ],
      "execution_count": 219,
      "outputs": []
    },
    {
      "cell_type": "code",
      "metadata": {
        "id": "7iRr0uRi6kwA"
      },
      "source": [
        "d = scaler.transform(d)"
      ],
      "execution_count": 220,
      "outputs": []
    },
    {
      "cell_type": "code",
      "metadata": {
        "id": "0jT-RgWU6zb_"
      },
      "source": [
        "x = []\n",
        "\n",
        "for i in range(60, 120):\n",
        "    x.append(d[i-60:i])\n",
        "\n",
        "x = np.array(x)"
      ],
      "execution_count": 221,
      "outputs": []
    },
    {
      "cell_type": "code",
      "metadata": {
        "id": "t4NE1eDt77re"
      },
      "source": [
        "y = regressor.predict(x)\n",
        "y = y*scale"
      ],
      "execution_count": 222,
      "outputs": []
    },
    {
      "cell_type": "code",
      "metadata": {
        "colab": {
          "base_uri": "https://localhost:8080/",
          "height": 282
        },
        "id": "0QfORI_F8Fpx",
        "outputId": "9b102192-dcbd-4c84-95b8-7a0e4d164500"
      },
      "source": [
        "plt.plot(y)"
      ],
      "execution_count": 223,
      "outputs": [
        {
          "output_type": "execute_result",
          "data": {
            "text/plain": [
              "[<matplotlib.lines.Line2D at 0x7ff7de6569d0>]"
            ]
          },
          "metadata": {
            "tags": []
          },
          "execution_count": 223
        },
        {
          "output_type": "display_data",
          "data": {
            "image/png": "[encoded data removed]",
            "text/plain": [
              "<Figure size 432x288 with 1 Axes>"
            ]
          },
          "metadata": {
            "tags": [],
            "needs_background": "light"
          }
        }
      ]
    },
    {
      "cell_type": "code",
      "metadata": {
        "id": "sNjLXfnG8HxU"
      },
      "source": [
        ""
      ],
      "execution_count": 223,
      "outputs": []
    }
  ]
}